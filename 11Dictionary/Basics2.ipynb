{
 "cells": [
  {
   "cell_type": "code",
   "execution_count": 5,
   "id": "bd330320",
   "metadata": {},
   "outputs": [
    {
     "name": "stdout",
     "output_type": "stream",
     "text": [
      "{'brand': 'Ford', 'Model': 'Mustang', 'year': 2019}\n",
      "{'brand': 'Ford', 'Model': 'Mustang', 'year': 2019, 'color': 'blue'}\n",
      "{'brand': 'Ford', 'Model': 'Mustang'}\n"
     ]
    }
   ],
   "source": [
    "#changing dict values\n",
    "car={\n",
    "    \"brand\": \"Ford\",\n",
    "    \"Model\": \"Mustang\",\n",
    "    \"year\": 1964\n",
    "}\n",
    "car[\"year\"]=2018 #updating the values\n",
    "car.update({\"year\":2019})\n",
    "print(car)\n",
    "#adding more items in dictionary\n",
    "car[\"color\"]=\"Black\"\n",
    "car.update({\"color\":\"blue\"})\n",
    "print(car)\n",
    "#removing items\n",
    "car.pop(\"color\")\n",
    "car.popitem() #removes last item\n",
    "print(car)\n",
    "car.clear() #empties the dictionary\n",
    "del car #delete the dictionary"
   ]
  },
  {
   "cell_type": "code",
   "execution_count": 14,
   "id": "777ee104",
   "metadata": {},
   "outputs": [
    {
     "name": "stdout",
     "output_type": "stream",
     "text": [
      "i12 16GB 4gb \n",
      "i12 16GB 4gb \n",
      "cpu ram Gpu \n",
      "cpu  :  i12\n",
      "ram  :  16GB\n",
      "Gpu  :  4gb\n"
     ]
    }
   ],
   "source": [
    "#looping through dictionary\n",
    "computer={\n",
    "    \"cpu\": \"i12\",\n",
    "    \"ram\": \"16GB\",\n",
    "    \"Gpu\": \"4gb\"\n",
    "}\n",
    "for x in computer:\n",
    "    print(computer[x],end=\" \")\n",
    "print()\n",
    "for x in computer.values():\n",
    "    print(x,end=\" \")\n",
    "print()\n",
    "for x in computer.keys():\n",
    "    print(x,end=\" \")\n",
    "print()    \n",
    "#looping through both keys and values\n",
    "for x,y in computer.items():\n",
    "    print(x,\" : \",y)"
   ]
  }
 ],
 "metadata": {
  "kernelspec": {
   "display_name": "Python 3 (ipykernel)",
   "language": "python",
   "name": "python3"
  },
  "language_info": {
   "codemirror_mode": {
    "name": "ipython",
    "version": 3
   },
   "file_extension": ".py",
   "mimetype": "text/x-python",
   "name": "python",
   "nbconvert_exporter": "python",
   "pygments_lexer": "ipython3",
   "version": "3.9.13"
  }
 },
 "nbformat": 4,
 "nbformat_minor": 5
}
