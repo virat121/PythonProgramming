{
 "cells": [
  {
   "cell_type": "code",
   "execution_count": 5,
   "id": "1b74b99e",
   "metadata": {},
   "outputs": [
    {
     "name": "stdout",
     "output_type": "stream",
     "text": [
      "<class 'dict'>\n",
      "{'cpu': 'i12', 'ram': '16GB', 'storage': '528gb'}\n",
      "cpu ram storage\n",
      "3\n"
     ]
    }
   ],
   "source": [
    "#dictionaries are ordered ,changeable and donot allow duplicates\n",
    "computer={\n",
    "    \"cpu\":\"i12\",\n",
    "    \"ram\":\"16GB\",\n",
    "    \"storage\":\"528gb\"\n",
    "}\n",
    "#dictionary(key-value pair)\n",
    "print(type(computer))\n",
    "print(computer)\n",
    "# print(*computer)\n",
    "print(len(computer))\n",
    "#Dictionaries cannot have two items with the same key"
   ]
  },
  {
   "cell_type": "code",
   "execution_count": 8,
   "id": "5718ff5a",
   "metadata": {},
   "outputs": [
    {
     "name": "stdout",
     "output_type": "stream",
     "text": [
      "{'name': 'ishu', 'age': 5, 'nature': 'innocent', 'country': 'India'}\n"
     ]
    }
   ],
   "source": [
    "#dict() constructor\n",
    "child=dict(name=\"ishu\",age=5,nature=\"innocent\",country=\"India\")\n",
    "print(child)"
   ]
  },
  {
   "cell_type": "code",
   "execution_count": 16,
   "id": "4a84390a",
   "metadata": {},
   "outputs": [
    {
     "name": "stdout",
     "output_type": "stream",
     "text": [
      "very short duration\n",
      "dict_keys(['nature', 'issmart', 'isthinking', 'ishappy', 'issmile'])\n",
      "always\n",
      "dict_values(['arrogant but caring', \"don't know\", 'always', 'sometime', 'always'])\n",
      "{'nature': 'arrogant but caring', 'issmart': \"don't know\", 'isthinking': 'always', 'ishappy': 'sometime', 'issmile': 'always', 'isdaring': '100%'}\n"
     ]
    }
   ],
   "source": [
    "#accessing dict items\n",
    "virat={\n",
    "    \"nature\": \"arrogant but caring\",\n",
    "    \"issmart\": \"don't know\",\n",
    "    \"isthinking\": \"always\",\n",
    "    \"ishappy\": \"sometime\",\n",
    "    \"issmile\": \"very short duration\",\n",
    "}\n",
    "print(virat.get(\"issmile\"))\n",
    "print(virat.keys())\n",
    "#changin values\n",
    "virat[\"issmile\"]=\"always\"\n",
    "print(virat.get(\"issmile\"))\n",
    "print(virat.values())\n",
    "#adding one more key-value\n",
    "virat[\"isdaring\"]=\"100%\"\n",
    "print(virat)"
   ]
  },
  {
   "cell_type": "code",
   "execution_count": 17,
   "id": "820fec6c",
   "metadata": {},
   "outputs": [
    {
     "name": "stdout",
     "output_type": "stream",
     "text": [
      "dict_items([('brand', 'Ford'), ('model', 'Mustang'), ('year', 1964)])\n"
     ]
    }
   ],
   "source": [
    "car = {\n",
    "\"brand\": \"Ford\",\n",
    "\"model\": \"Mustang\",\n",
    "\"year\": 1964\n",
    "}\n",
    "x=car.items() #returns each key-pair as tuple in a list\n",
    "print(x)"
   ]
  }
 ],
 "metadata": {
  "kernelspec": {
   "display_name": "Python 3 (ipykernel)",
   "language": "python",
   "name": "python3"
  },
  "language_info": {
   "codemirror_mode": {
    "name": "ipython",
    "version": 3
   },
   "file_extension": ".py",
   "mimetype": "text/x-python",
   "name": "python",
   "nbconvert_exporter": "python",
   "pygments_lexer": "ipython3",
   "version": "3.9.13"
  }
 },
 "nbformat": 4,
 "nbformat_minor": 5
}
