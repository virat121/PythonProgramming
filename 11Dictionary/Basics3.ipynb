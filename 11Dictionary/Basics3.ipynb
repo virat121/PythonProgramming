{
 "cells": [
  {
   "cell_type": "code",
   "execution_count": 4,
   "id": "254049a6",
   "metadata": {},
   "outputs": [
    {
     "name": "stdout",
     "output_type": "stream",
     "text": [
      "{'d': 400, 'e': 500, 'f': 600}\n"
     ]
    }
   ],
   "source": [
    "#copy of a dictionary\n",
    "dict1={\n",
    "    \"a\": 100,\n",
    "    \"b\": 200,\n",
    "    \"c\": 300\n",
    "}\n",
    "dict2={\n",
    "    \"d\":400,\n",
    "    \"e\": 500,\n",
    "    \"f\": 600\n",
    "}\n",
    "dict1=dict2\n",
    "del dict2\n",
    "print(dict1) #changes made in dict2 reflected in dict1"
   ]
  },
  {
   "cell_type": "code",
   "execution_count": 5,
   "id": "f778c0da",
   "metadata": {},
   "outputs": [
    {
     "name": "stdout",
     "output_type": "stream",
     "text": [
      "{'d': 400, 'e': 500, 'f': 600}\n",
      "{'d': 400, 'e': 500, 'f': 600}\n"
     ]
    }
   ],
   "source": [
    "dict1={\n",
    "    \"a\": 100,\n",
    "    \"b\": 200,\n",
    "    \"c\": 300\n",
    "}\n",
    "dict2={\n",
    "    \"d\":400,\n",
    "    \"e\": 500,\n",
    "    \"f\": 600\n",
    "}\n",
    "dict1=dict2.copy() \n",
    "print(dict1)\n",
    "dict2=dict(dict1)\n",
    "print(dict2)"
   ]
  },
  {
   "cell_type": "code",
   "execution_count": 7,
   "id": "bb15e061",
   "metadata": {},
   "outputs": [
    {
     "name": "stdout",
     "output_type": "stream",
     "text": [
      "{'dict1': {'a': 100, 'b': 200, 'c': 300}, 'dict2': {'d': 400, 'e': 500, 'f': 600}}\n",
      "{'dict1': {'a': 20, 'b': 30}, 'dict2': {'c': 40, 'd': 40}}\n"
     ]
    }
   ],
   "source": [
    "#Nested Dictionary\n",
    "dict1={\n",
    "    \"a\": 100,\n",
    "    \"b\": 200,\n",
    "    \"c\": 300\n",
    "}\n",
    "dict2={\n",
    "    \"d\":400,\n",
    "    \"e\": 500,\n",
    "    \"f\": 600\n",
    "}\n",
    "dict3={\n",
    "    \"dict1\": dict1,\n",
    "    \"dict2\": dict2\n",
    "}\n",
    "print(dict3)\n",
    "dict4={\n",
    "    \"dict1\":{\n",
    "        \"a\":20,\n",
    "        \"b\":30\n",
    "    },\n",
    "    \"dict2\":{\n",
    "        \"c\":40,\n",
    "        \"d\":40\n",
    "    }\n",
    "}\n",
    "print(dict4)"
   ]
  }
 ],
 "metadata": {
  "kernelspec": {
   "display_name": "Python 3 (ipykernel)",
   "language": "python",
   "name": "python3"
  },
  "language_info": {
   "codemirror_mode": {
    "name": "ipython",
    "version": 3
   },
   "file_extension": ".py",
   "mimetype": "text/x-python",
   "name": "python",
   "nbconvert_exporter": "python",
   "pygments_lexer": "ipython3",
   "version": "3.9.13"
  }
 },
 "nbformat": 4,
 "nbformat_minor": 5
}
