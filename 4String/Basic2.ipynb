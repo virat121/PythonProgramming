{
 "cells": [
  {
   "cell_type": "code",
   "execution_count": 11,
   "id": "93e0c069",
   "metadata": {},
   "outputs": [
    {
     "name": "stdout",
     "output_type": "stream",
     "text": [
      "VIRAT\n",
      "virat\n",
      "Hii How are you?\n",
      " Hii How are you? \n",
      " Iii Iow are you? \n",
      "[' ', 'ii ', 'ow are you? ']\n"
     ]
    }
   ],
   "source": [
    "   #String methods\n",
    "str=\"Virat\"\n",
    "# str.upper() #Don't do this silly things\n",
    "# print(str)\n",
    "print(str.upper())\n",
    "str=str.lower() #🤔think string are immutable then how this is possible🙂\n",
    "print(str)\n",
    "#removing white spaces\n",
    "a=\" Hii How are you? \"\n",
    "print(a.strip()) #removes white spaces from begining and end\n",
    "print(a.rstrip(\"u\"));\n",
    "print(a)\n",
    "print(a.replace(\"H\",\"I\")) #replace all \n",
    "print(a.split(\"H\")) #split if it finds instances of separator\n",
    "#print(str[23]) #This will print an IndexError as index is out of range\n",
    "# print(str[2.5]) # This will print TypeError as string indices must be integers"
   ]
  },
  {
   "cell_type": "code",
   "execution_count": 17,
   "id": "19fdf25b",
   "metadata": {},
   "outputs": [
    {
     "name": "stdout",
     "output_type": "stream",
     "text": [
      "Ishita Enumeration1\n",
      "Ishita enumeration1\n",
      "-1\n",
      "16\n",
      "-1\n",
      "3\n",
      "False\n",
      "False\n",
      "False\n"
     ]
    }
   ],
   "source": [
    "s=\"Ishita enumeration1\"\n",
    "print(s.title()) #make all word's first letter to capital\n",
    "print(s.capitalize()) #make ist word's leeter capital and other word's ist letter small\n",
    "print(s.find('g')) #tells 1st index where it gets that character\n",
    "print(s.find('o',8))\n",
    "print(s.find('z'))\n",
    "print(s.index('i')) #don't use\n",
    "#print(s.index('z')) #gives error if character is not present\n",
    "print(s.isalpha())\n",
    "print(s.isdigit()) #check for complete string is made of digit  or not\n",
    "print(s.isalnum())\n"
   ]
  },
  {
   "cell_type": "code",
   "execution_count": 1,
   "id": "b75c86a1",
   "metadata": {},
   "outputs": [
    {
     "name": "stdout",
     "output_type": "stream",
     "text": [
      "000000000Hello,Virat\n",
      "hELLO,vIRAT\n",
      "('Hello', ',', 'Virat')\n"
     ]
    }
   ],
   "source": [
    "str=\"Hello,Virat\"\n",
    "print(str.zfill(20))\n",
    "print(str.swapcase()) #swape upper to lower and lower to upper\n",
    "print(str.rpartition(\",\")) #return a tuple\n"
   ]
  },
  {
   "cell_type": "code",
   "execution_count": 7,
   "id": "1570e2cb",
   "metadata": {},
   "outputs": [
    {
     "name": "stdout",
     "output_type": "stream",
     "text": [
      "False\n",
      "True\n",
      "True\n",
      "False\n",
      "Welcome To Hello World\n"
     ]
    }
   ],
   "source": [
    "str=\"I want to say that \\n\"\n",
    "print(str.isprintable()); #return false\n",
    "str=\"hello world\"\n",
    "print(str.islower())\n",
    "str=\"   \"\n",
    "print(str.isspace())\n",
    "str=\"Welcome to hello world\"\n",
    "print(str.istitle())  #returns true if each word starts with capital\n",
    "print(str.title()) #make the title\n"
   ]
  }
 ],
 "metadata": {
  "kernelspec": {
   "display_name": "Python 3 (ipykernel)",
   "language": "python",
   "name": "python3"
  },
  "language_info": {
   "codemirror_mode": {
    "name": "ipython",
    "version": 3
   },
   "file_extension": ".py",
   "mimetype": "text/x-python",
   "name": "python",
   "nbconvert_exporter": "python",
   "pygments_lexer": "ipython3",
   "version": "3.9.13"
  }
 },
 "nbformat": 4,
 "nbformat_minor": 5
}
