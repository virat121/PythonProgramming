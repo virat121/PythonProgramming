{
 "cells": [
  {
   "cell_type": "code",
   "execution_count": 9,
   "id": "a1e29424",
   "metadata": {},
   "outputs": [
    {
     "name": "stdout",
     "output_type": "stream",
     "text": [
      "I am 20 years old and you are 3 years elder than me\n",
      "I am 20 years old and you are 3.00 years elder than me\n",
      "I am 20 years old and you are 3 years elder than me\n"
     ]
    }
   ],
   "source": [
    "#String format() method\n",
    "age=20\n",
    "diff=3\n",
    "text=\"I am {} years old and you are {} years elder than me\"\n",
    "print(text.format(age,diff))\n",
    "#another way\n",
    "text=\"I am {0} years old and you are {1:.2f} years elder than me\"\n",
    "print(text.format(age,diff))\n",
    "text=\"I am {exact_age} years old and you are {age_diff} years elder than me\"\n",
    "print(text.format(exact_age=age,age_diff=diff))"
   ]
  }
 ],
 "metadata": {
  "kernelspec": {
   "display_name": "Python 3 (ipykernel)",
   "language": "python",
   "name": "python3"
  },
  "language_info": {
   "codemirror_mode": {
    "name": "ipython",
    "version": 3
   },
   "file_extension": ".py",
   "mimetype": "text/x-python",
   "name": "python",
   "nbconvert_exporter": "python",
   "pygments_lexer": "ipython3",
   "version": "3.9.13"
  }
 },
 "nbformat": 4,
 "nbformat_minor": 5
}
