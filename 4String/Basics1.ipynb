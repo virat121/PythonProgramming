{
 "cells": [
  {
   "cell_type": "code",
   "execution_count": 16,
   "id": "88a1b9a8",
   "metadata": {},
   "outputs": [
    {
     "name": "stdout",
     "output_type": "stream",
     "text": [
      "Virat <class 'str'>\n",
      "Twinkle, twinkle, little star,\n",
      "How I wonder what you are.\n",
      "Up above the world so high,\n",
      "Like a diamond in the sky. \n",
      "\n",
      "V\n",
      "Virat\n",
      "5\n",
      "True\n",
      "True\n"
     ]
    }
   ],
   "source": [
    "#Strings are immutable\n",
    "a=\"Virat\"\n",
    "print(a,type(a))\n",
    "#multiline string\n",
    "b='''Twinkle, twinkle, little star,\n",
    "How I wonder what you are.\n",
    "Up above the world so high,\n",
    "Like a diamond in the sky. \n",
    "'''\n",
    "print(b)\n",
    "#python doesnot have character datatype\n",
    "print(a[0]) #gives character at 0th index\n",
    "#looping through a string\n",
    "for x in a:\n",
    "    print(x,end=\"\")\n",
    "print()\n",
    "print(len(a)) #length of string\n",
    "str=\"The best part of life is dying\"\n",
    "print(\"is\" in str) #check for given string\n",
    "print(\"hate\" not in str)"
   ]
  },
  {
   "cell_type": "code",
   "execution_count": 25,
   "id": "560c17db",
   "metadata": {},
   "outputs": [
    {
     "name": "stdout",
     "output_type": "stream",
     "text": [
      "Hiii how are you?\n",
      "iii\n",
      "Hiii h\n",
      "i how are you?\n",
      "e yo\n",
      "tariV\n",
      "Vrt\n"
     ]
    }
   ],
   "source": [
    "  #string slicing\n",
    "str=\"Hiii how are you?\"\n",
    "print(str)\n",
    "print(str[1:4]) #4th index not included\n",
    "print(str[:6])  #slicing from 0th indes to index 5\n",
    "print(str[3:])  #slicing from 3rd index to end\n",
    "  #Negative Indexing\n",
    "print(str[-6:-2])   #-6 is excluded\n",
    "#reversing an string\n",
    "name=\"Virat\"\n",
    "print(name[-1::-1])\n",
    "print(name[0::2])"
   ]
  }
 ],
 "metadata": {
  "kernelspec": {
   "display_name": "Python 3 (ipykernel)",
   "language": "python",
   "name": "python3"
  },
  "language_info": {
   "codemirror_mode": {
    "name": "ipython",
    "version": 3
   },
   "file_extension": ".py",
   "mimetype": "text/x-python",
   "name": "python",
   "nbconvert_exporter": "python",
   "pygments_lexer": "ipython3",
   "version": "3.9.13"
  }
 },
 "nbformat": 4,
 "nbformat_minor": 5
}
