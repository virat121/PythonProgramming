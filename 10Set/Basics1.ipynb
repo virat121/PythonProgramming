{
 "cells": [
  {
   "cell_type": "code",
   "execution_count": 5,
   "id": "38667152",
   "metadata": {},
   "outputs": [
    {
     "name": "stdout",
     "output_type": "stream",
     "text": [
      "{1, 2, 3}\n",
      "<class 'set'>\n",
      "3\n"
     ]
    }
   ],
   "source": [
    "#sets are immutable ,unordered,unindexed,don't allow duplicate value\n",
    "vec1={1,2,3}\n",
    "print(vec1)\n",
    "print(type(vec1))\n",
    "print(len(vec1))"
   ]
  },
  {
   "cell_type": "code",
   "execution_count": 14,
   "id": "5de81620",
   "metadata": {},
   "outputs": [
    {
     "name": "stdout",
     "output_type": "stream",
     "text": [
      "{8, 5, 6, 7}\n",
      "<class 'type'>\n"
     ]
    }
   ],
   "source": [
    "#set constructor\n",
    "vec2=set((5,6,7,8))\n",
    "print(vec2)\n",
    "print(type(set))"
   ]
  },
  {
   "cell_type": "code",
   "execution_count": null,
   "id": "69d8691f",
   "metadata": {},
   "outputs": [],
   "source": []
  }
 ],
 "metadata": {
  "kernelspec": {
   "display_name": "Python 3 (ipykernel)",
   "language": "python",
   "name": "python3"
  },
  "language_info": {
   "codemirror_mode": {
    "name": "ipython",
    "version": 3
   },
   "file_extension": ".py",
   "mimetype": "text/x-python",
   "name": "python",
   "nbconvert_exporter": "python",
   "pygments_lexer": "ipython3",
   "version": "3.9.13"
  }
 },
 "nbformat": 4,
 "nbformat_minor": 5
}
