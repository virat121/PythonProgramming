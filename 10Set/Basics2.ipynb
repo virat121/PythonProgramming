{
 "cells": [
  {
   "cell_type": "code",
   "execution_count": 3,
   "id": "b809b577",
   "metadata": {},
   "outputs": [
    {
     "name": "stdout",
     "output_type": "stream",
     "text": [
      "1 2 3 4 5 6 \n",
      "True\n",
      "1 2 3 4 5 6 7 8\n"
     ]
    }
   ],
   "source": [
    "#looping through set items\n",
    "vec1={1,2,3,4,5,6}\n",
    "for x in vec1:\n",
    "    print(x,end=\" \")\n",
    "print()\n",
    "print(3 in vec1)\n",
    "#adding items to set\n",
    "vec1.add(7)\n",
    "vec1.add(8)\n",
    "print(*vec1)"
   ]
  },
  {
   "cell_type": "code",
   "execution_count": 7,
   "id": "8bbd3a7c",
   "metadata": {},
   "outputs": [
    {
     "name": "stdout",
     "output_type": "stream",
     "text": [
      "1 2 3 4 5 6 7 8 9\n",
      "8 9 6 7\n",
      "{6, 7, 8, 9, 10, 11, 12, 13}\n"
     ]
    }
   ],
   "source": [
    "set1={1,2,3,4,5}\n",
    "set2={6,7,8,9}\n",
    "set1.update(set2)\n",
    "print(*set1)\n",
    "print(*set2)\n",
    "list1=[10,11,12,13]\n",
    "set2.update(list1) #adding other iterable\n",
    "print(set2)"
   ]
  },
  {
   "cell_type": "code",
   "execution_count": 15,
   "id": "fb7dd2b6",
   "metadata": {},
   "outputs": [
    {
     "name": "stdout",
     "output_type": "stream",
     "text": [
      "50 20 70 40 10 60\n",
      "50 20 70 40 10 60\n"
     ]
    }
   ],
   "source": [
    "#remove() and discard() in set\n",
    "num={10,20,30,40,50,60,70}\n",
    "num.remove(30)  #removes that value not index if not found give error\n",
    "print(*num)\n",
    "num.discard(100) #does not thrw error\n",
    "print(*num)\n",
    "#pop() will remove a random number\n",
    "#clear() removes num\n",
    "del num\n",
    "# print(num)"
   ]
  },
  {
   "cell_type": "code",
   "execution_count": 17,
   "id": "3d5caa35",
   "metadata": {},
   "outputs": [
    {
     "name": "stdout",
     "output_type": "stream",
     "text": [
      "{1, 2, 3, 4, 5, 'd', 'c', 'a', 'b'}\n",
      "{1, 2, 3, 4, 5, 'd', 'c', 'a', 'b'}\n"
     ]
    }
   ],
   "source": [
    "set1={'a','b','c','d'}\n",
    "set2={1,2,3,4,5}\n",
    "set3=set1.union(set2)\n",
    "set1.update(set2)\n",
    "print(set3)\n",
    "print(set1)"
   ]
  },
  {
   "cell_type": "code",
   "execution_count": 20,
   "id": "0875dc82",
   "metadata": {},
   "outputs": [
    {
     "name": "stdout",
     "output_type": "stream",
     "text": [
      "4 5\n",
      "4 5\n"
     ]
    }
   ],
   "source": [
    "#intersetion_update()\n",
    "x={1,2,3,4,5}\n",
    "y={6,9,5,4,12}\n",
    "x.intersection_update(y)\n",
    "print(*x)\n",
    "z=x.intersection(y)\n",
    "print(*z)"
   ]
  },
  {
   "cell_type": "code",
   "execution_count": 23,
   "id": "272d7dd5",
   "metadata": {},
   "outputs": [
    {
     "name": "stdout",
     "output_type": "stream",
     "text": [
      "1 2 3 6 9 12\n"
     ]
    },
    {
     "ename": "AttributeError",
     "evalue": "'set' object has no attribute 'symmetric_diiference'",
     "output_type": "error",
     "traceback": [
      "\u001b[1;31m---------------------------------------------------------------------------\u001b[0m",
      "\u001b[1;31mAttributeError\u001b[0m                            Traceback (most recent call last)",
      "\u001b[1;32m~\\AppData\\Local\\Temp\\ipykernel_17312\\3717943700.py\u001b[0m in \u001b[0;36m<module>\u001b[1;34m\u001b[0m\n\u001b[0;32m      3\u001b[0m \u001b[0mx\u001b[0m\u001b[1;33m.\u001b[0m\u001b[0msymmetric_difference_update\u001b[0m\u001b[1;33m(\u001b[0m\u001b[0my\u001b[0m\u001b[1;33m)\u001b[0m\u001b[1;33m\u001b[0m\u001b[1;33m\u001b[0m\u001b[0m\n\u001b[0;32m      4\u001b[0m \u001b[0mprint\u001b[0m\u001b[1;33m(\u001b[0m\u001b[1;33m*\u001b[0m\u001b[0mx\u001b[0m\u001b[1;33m)\u001b[0m\u001b[1;33m\u001b[0m\u001b[1;33m\u001b[0m\u001b[0m\n\u001b[1;32m----> 5\u001b[1;33m \u001b[0mz\u001b[0m\u001b[1;33m=\u001b[0m\u001b[0mx\u001b[0m\u001b[1;33m.\u001b[0m\u001b[0msymmetric_diiference\u001b[0m\u001b[1;33m(\u001b[0m\u001b[0my\u001b[0m\u001b[1;33m)\u001b[0m\u001b[1;33m;\u001b[0m\u001b[1;33m\u001b[0m\u001b[1;33m\u001b[0m\u001b[0m\n\u001b[0m\u001b[0;32m      6\u001b[0m \u001b[0mprint\u001b[0m\u001b[1;33m(\u001b[0m\u001b[1;33m*\u001b[0m\u001b[0my\u001b[0m\u001b[1;33m)\u001b[0m\u001b[1;33m\u001b[0m\u001b[1;33m\u001b[0m\u001b[0m\n\u001b[0;32m      7\u001b[0m \u001b[0mprint\u001b[0m\u001b[1;33m(\u001b[0m\u001b[1;33m*\u001b[0m\u001b[0mz\u001b[0m\u001b[1;33m)\u001b[0m\u001b[1;33m\u001b[0m\u001b[1;33m\u001b[0m\u001b[0m\n",
      "\u001b[1;31mAttributeError\u001b[0m: 'set' object has no attribute 'symmetric_diiference'"
     ]
    }
   ],
   "source": [
    "x={1,2,3,4,5}\n",
    "y={6,9,5,4,12}\n",
    "x.symmetric_difference_update(y)\n",
    "print(*x)\n",
    "z=x.symmetric_diiference(y);\n",
    "print(*y)\n",
    "print(*z)"
   ]
  }
 ],
 "metadata": {
  "kernelspec": {
   "display_name": "Python 3 (ipykernel)",
   "language": "python",
   "name": "python3"
  },
  "language_info": {
   "codemirror_mode": {
    "name": "ipython",
    "version": 3
   },
   "file_extension": ".py",
   "mimetype": "text/x-python",
   "name": "python",
   "nbconvert_exporter": "python",
   "pygments_lexer": "ipython3",
   "version": "3.9.13"
  }
 },
 "nbformat": 4,
 "nbformat_minor": 5
}
