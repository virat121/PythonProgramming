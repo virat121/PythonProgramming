{
 "cells": [
  {
   "cell_type": "code",
   "execution_count": 8,
   "id": "039d27b5",
   "metadata": {},
   "outputs": [
    {
     "name": "stdout",
     "output_type": "stream",
     "text": [
      "Sum of even number:  2450\n",
      "out of loop statement\n"
     ]
    }
   ],
   "source": [
    "#while loop in python\n",
    "i=0\n",
    "sum=0\n",
    "while i < 100:\n",
    "    sum+=i\n",
    "    i+=2\n",
    "print(\"Sum of even number: \", sum) \n",
    "#break and continue can also be used\n",
    "while i<10:\n",
    "    print(i)\n",
    "else:\n",
    "    print(\"out of loop statement\")"
   ]
  },
  {
   "cell_type": "code",
   "execution_count": 13,
   "id": "78dc910a",
   "metadata": {},
   "outputs": [
    {
     "name": "stdout",
     "output_type": "stream",
     "text": [
      "Mango Apple Grapes \n",
      "Hello World"
     ]
    }
   ],
   "source": [
    "#for loop\n",
    "fruits=[\"Mango\",\"Apple\",\"Grapes\"]\n",
    "for x in fruits:\n",
    "    print(x,end=\" \")\n",
    "print()  \n",
    "#looping through a string\n",
    "str=\"Hello World\"\n",
    "for x in str:\n",
    "    print(x,end=\"\")"
   ]
  },
  {
   "cell_type": "code",
   "execution_count": 18,
   "id": "6ee03cf8",
   "metadata": {},
   "outputs": [
    {
     "name": "stdout",
     "output_type": "stream",
     "text": [
      "0 1 2 3 4 5 6 7 8 9 \n",
      "3 5 7 9 11 "
     ]
    }
   ],
   "source": [
    "#range() function\n",
    "x=1\n",
    "for x in range(10):\n",
    "    print(x,end=\" \")\n",
    "print() \n",
    "for x in range(3,13,2):\n",
    "    print(x,end=\" \")"
   ]
  },
  {
   "cell_type": "code",
   "execution_count": 26,
   "id": "5638cbf0",
   "metadata": {},
   "outputs": [
    {
     "name": "stdout",
     "output_type": "stream",
     "text": [
      "0 1 2 \n",
      "Loop finished!\n"
     ]
    }
   ],
   "source": [
    "#else in for loop\n",
    "for x in range(3):\n",
    "    print(x,end=\" \")\n",
    "#     break\n",
    "else:    \n",
    "    print(\"\\nLoop finished!\")  \n",
    "#The else block will NOT be executed if the loop is stopped by a break statement.    "
   ]
  },
  {
   "cell_type": "code",
   "execution_count": null,
   "id": "c0c3f351",
   "metadata": {},
   "outputs": [],
   "source": []
  }
 ],
 "metadata": {
  "kernelspec": {
   "display_name": "Python 3 (ipykernel)",
   "language": "python",
   "name": "python3"
  },
  "language_info": {
   "codemirror_mode": {
    "name": "ipython",
    "version": 3
   },
   "file_extension": ".py",
   "mimetype": "text/x-python",
   "name": "python",
   "nbconvert_exporter": "python",
   "pygments_lexer": "ipython3",
   "version": "3.9.13"
  }
 },
 "nbformat": 4,
 "nbformat_minor": 5
}
