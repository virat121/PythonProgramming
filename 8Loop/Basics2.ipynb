{
 "cells": [
  {
   "cell_type": "code",
   "execution_count": 3,
   "id": "28bf3f65",
   "metadata": {},
   "outputs": [
    {
     "name": "stdout",
     "output_type": "stream",
     "text": [
      "0\n",
      "1\n",
      "2\n",
      "3\n",
      "4\n",
      "1 2 3 4 5 \n",
      "1 3 5 "
     ]
    }
   ],
   "source": [
    "#range(5)\n",
    "'''\n",
    "start=0\n",
    "condition<5\n",
    "increment=1(by_default)\n",
    "'''\n",
    "#range(1,6)\n",
    "'''\n",
    "start=1\n",
    "condition<6\n",
    "increment=1(by_default)\n",
    "'''\n",
    "#range(1,6,2)\n",
    "'''\n",
    "start=1\n",
    "condition<6\n",
    "increment=2\n",
    "'''\n",
    "for n in range(5):\n",
    "    print(n)    \n",
    "for n in range(1,6):\n",
    "    print(n,end=\" \")\n",
    "print()      \n",
    "for n in range(1,6,2):\n",
    "    print(n,end=\" \")"
   ]
  },
  {
   "cell_type": "code",
   "execution_count": 6,
   "id": "7ff0de00",
   "metadata": {},
   "outputs": [
    {
     "name": "stdout",
     "output_type": "stream",
     "text": [
      "2 * 1 = 2\n",
      "2 * 2 = 4\n",
      "2 * 3 = 6\n",
      "2 * 4 = 8\n",
      "2 * 5 = 10\n",
      "2 * 6 = 12\n",
      "2 * 7 = 14\n",
      "2 * 8 = 16\n",
      "2 * 9 = 18\n",
      "2 * 10 = 20\n",
      "10 9 8 7 6 5 4 3 2 1 "
     ]
    }
   ],
   "source": [
    "#Table of 2\n",
    "for a in range(1,11):\n",
    "    print(\"2 *\",a,\"=\",2*a,end='\\n')\n",
    "#range in reverse state\n",
    "for a in range(10,0,-1):\n",
    "    print(a,end=\" \")"
   ]
  },
  {
   "cell_type": "code",
   "execution_count": 11,
   "id": "bcf74c35",
   "metadata": {},
   "outputs": [
    {
     "name": "stdout",
     "output_type": "stream",
     "text": [
      "* \n",
      "* * \n",
      "* * * \n",
      "* * * * \n",
      "* * * * * \n"
     ]
    }
   ],
   "source": [
    "#Nested while\n",
    "i=1\n",
    "while i<=5:\n",
    "    j=1\n",
    "    while j<=i:\n",
    "        print(\"*\",end=\" \")\n",
    "        j=j+1\n",
    "    print()    \n",
    "    i=i+1"
   ]
  }
 ],
 "metadata": {
  "kernelspec": {
   "display_name": "Python 3 (ipykernel)",
   "language": "python",
   "name": "python3"
  },
  "language_info": {
   "codemirror_mode": {
    "name": "ipython",
    "version": 3
   },
   "file_extension": ".py",
   "mimetype": "text/x-python",
   "name": "python",
   "nbconvert_exporter": "python",
   "pygments_lexer": "ipython3",
   "version": "3.9.13"
  }
 },
 "nbformat": 4,
 "nbformat_minor": 5
}
