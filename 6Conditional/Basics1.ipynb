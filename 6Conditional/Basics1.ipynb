{
 "cells": [
  {
   "cell_type": "code",
   "execution_count": 9,
   "id": "7811fce4",
   "metadata": {},
   "outputs": [
    {
     "name": "stdout",
     "output_type": "stream",
     "text": [
      "a is less than b\n"
     ]
    }
   ],
   "source": [
    "    #if-else statement\n",
    "a=20\n",
    "b=30\n",
    "if a > b:\n",
    "     print(\"a is greater than b\")\n",
    "else:\n",
    "     print(\"a is less than b\")"
   ]
  },
  {
   "cell_type": "code",
   "execution_count": 15,
   "id": "82b27719",
   "metadata": {},
   "outputs": [
    {
     "name": "stdout",
     "output_type": "stream",
     "text": [
      "x is less than 20\n"
     ]
    }
   ],
   "source": [
    "    #if-elif else\n",
    "x=20\n",
    "y=27\n",
    "z=0\n",
    "if x==0:\n",
    "     print(\"x is zero\")\n",
    "elif(x>20):\n",
    "     print(\"x is greater than 20\")\n",
    "else:\n",
    "     print(\"x is less than 20\")\n"
   ]
  },
  {
   "cell_type": "code",
   "execution_count": 18,
   "id": "79384743",
   "metadata": {},
   "outputs": [
    {
     "name": "stdout",
     "output_type": "stream",
     "text": [
      "a is greater than b\n"
     ]
    }
   ],
   "source": [
    "#short hand if(also k/n ternary operator)\n",
    "a=12\n",
    "b=8\n",
    "if a>b: print(\"a is greater than b\")"
   ]
  },
  {
   "cell_type": "code",
   "execution_count": 21,
   "id": "a723b8db",
   "metadata": {},
   "outputs": [
    {
     "name": "stdout",
     "output_type": "stream",
     "text": [
      "A\n"
     ]
    }
   ],
   "source": [
    "#short hand if-else\n",
    "print(\"A\") if a>b else print(\"B\")"
   ]
  },
  {
   "cell_type": "code",
   "execution_count": 23,
   "id": "ed621667",
   "metadata": {},
   "outputs": [
    {
     "name": "stdout",
     "output_type": "stream",
     "text": [
      "30\n"
     ]
    }
   ],
   "source": [
    "#finding greater number from two number\n",
    "a=20\n",
    "b=30\n",
    "print(a) if a>b else print(b)"
   ]
  },
  {
   "cell_type": "code",
   "execution_count": 31,
   "id": "0939efa7",
   "metadata": {},
   "outputs": [
    {
     "name": "stdout",
     "output_type": "stream",
     "text": [
      "1200\n"
     ]
    }
   ],
   "source": [
    "#finding greater number from three number\n",
    "a=1200\n",
    "b=90\n",
    "c=800\n",
    "if a>b:\n",
    "    if a>c:\n",
    "        print(a)\n",
    "    else:\n",
    "        print(c)\n",
    "else:\n",
    "    if b>c:\n",
    "        print(b)\n",
    "    else:\n",
    "        print(c)\n"
   ]
  },
  {
   "cell_type": "code",
   "execution_count": 32,
   "id": "dd4136a4",
   "metadata": {},
   "outputs": [
    {
     "name": "stdout",
     "output_type": "stream",
     "text": [
      "don't want print inside if block\n"
     ]
    }
   ],
   "source": [
    "#pass statement\n",
    "name=\"kriti\"\n",
    "if name==\"Kriti\":\n",
    "    pass\n",
    "print(\"don't want print inside if bloc\")\n",
    "    "
   ]
  }
 ],
 "metadata": {
  "kernelspec": {
   "display_name": "Python 3 (ipykernel)",
   "language": "python",
   "name": "python3"
  },
  "language_info": {
   "codemirror_mode": {
    "name": "ipython",
    "version": 3
   },
   "file_extension": ".py",
   "mimetype": "text/x-python",
   "name": "python",
   "nbconvert_exporter": "python",
   "pygments_lexer": "ipython3",
   "version": "3.9.13"
  }
 },
 "nbformat": 4,
 "nbformat_minor": 5
}
