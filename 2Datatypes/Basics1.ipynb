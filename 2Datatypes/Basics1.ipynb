{
 "cells": [
  {
   "cell_type": "code",
   "execution_count": 22,
   "id": "f26f144a",
   "metadata": {},
   "outputs": [
    {
     "name": "stdout",
     "output_type": "stream",
     "text": [
      "<class 'int'>\n",
      "<class 'float'>\n",
      "<class 'complex'>\n",
      "(5+15j)\n",
      "(-50+37j)\n",
      "(0.8493150684931506+0.0684931506849315j)\n",
      "450000.0\n"
     ]
    }
   ],
   "source": [
    "#Python has in-built datatype by default\n",
    "\n",
    "       #   **Numeric Datatypes**\n",
    "a=4        #INTEGER\n",
    "b=4.6      #FLOAT\n",
    "c=2+7j     #COMPLEX\n",
    "d=3+8j\n",
    "f=45e4\n",
    "print(type(a))\n",
    "print(type(b))\n",
    "print(type(c))\n",
    "print(c+d) #adding two complex number\n",
    "print(c*d) #product of two complex number\n",
    "print(c/d) #division of complex number\n",
    "print(f)\n",
    "#can't convert complex into another datatype"
   ]
  },
  {
   "cell_type": "code",
   "execution_count": 4,
   "id": "179f6320",
   "metadata": {},
   "outputs": [
    {
     "name": "stdout",
     "output_type": "stream",
     "text": [
      "string using double quotes <class 'str'>\n",
      "multiline string \n",
      "using 3 quotes\n",
      "tri\n",
      "string using double quotesstring using double quotes\n",
      "string using double quotesmultiline string \n",
      "using 3 quotes\n"
     ]
    }
   ],
   "source": [
    "   #   **sequence datatypes**\n",
    "\n",
    "\n",
    "  #STRING\n",
    "str=\"string using double quotes\"\n",
    "str1='''multiline string \n",
    "using 3 quotes'''\n",
    "print(str,type(str))\n",
    "print(str1)\n",
    "print(str[1:4]) #printing 1st ans 4th character of string\n",
    "print(str*2) #printing twice str\n",
    "print(str+str1)"
   ]
  },
  {
   "cell_type": "code",
   "execution_count": 5,
   "id": "1dad2b3d",
   "metadata": {},
   "outputs": [
    {
     "name": "stdout",
     "output_type": "stream",
     "text": [
      "[1, 3, 10, 4]\n",
      "<class 'list'>\n"
     ]
    }
   ],
   "source": [
    "  #LIST(mutable)\n",
    "list1=[1,3,\"saurav\",4]\n",
    "list1[2]=10\n",
    "print(list1)\n",
    "print(type(list1))"
   ]
  },
  {
   "cell_type": "code",
   "execution_count": 6,
   "id": "c75043fd",
   "metadata": {},
   "outputs": [
    {
     "name": "stdout",
     "output_type": "stream",
     "text": [
      "(5, 'program', 20)\n",
      "<class 'tuple'>\n",
      "10\n",
      "<class 'int'>\n"
     ]
    }
   ],
   "source": [
    "  #Tuple(inmutable and little fast)\n",
    "t=(5,'program',20)  \n",
    "print(t)\n",
    "print(type(t))\n",
    "t=(10)\n",
    "print(t)\n",
    "print(type(t))"
   ]
  },
  {
   "cell_type": "code",
   "execution_count": 7,
   "id": "c2afb65f",
   "metadata": {},
   "outputs": [
    {
     "name": "stdout",
     "output_type": "stream",
     "text": [
      "{'course_name': 'python', 'course_duration': '2 months'}\n",
      "<class 'dict'>\n",
      "python\n"
     ]
    }
   ],
   "source": [
    "  #Dictionary(key & value)\n",
    "d={\n",
    "    'course_name':'python',\n",
    "    'course_duration':'2 months'\n",
    "}  \n",
    "print(d)\n",
    "print(type(d))\n",
    "print(d['course_name'])"
   ]
  },
  {
   "cell_type": "code",
   "execution_count": 9,
   "id": "f0ec760e",
   "metadata": {},
   "outputs": [
    {
     "name": "stdout",
     "output_type": "stream",
     "text": [
      "{10, 20, 30}\n",
      "<class 'set'>\n"
     ]
    }
   ],
   "source": [
    "  #Set(unique element & inmutable)\n",
    "s={10,20,30,10}\n",
    "print(s)\n",
    "print(type(s))"
   ]
  },
  {
   "cell_type": "code",
   "execution_count": 21,
   "id": "534ecaa1",
   "metadata": {},
   "outputs": [
    {
     "name": "stdout",
     "output_type": "stream",
     "text": [
      "2338217093712 2338217093712\n",
      "<class 'NoneType'>\n",
      "<class 'bool'>\n",
      "9\n"
     ]
    }
   ],
   "source": [
    "x=10\n",
    "y=10\n",
    "print(id(x),id(y)) #python uses memory efficiently\n",
    "x=None\n",
    "print(type(x))\n",
    "b=True #bool type\n",
    "print(type(b))\n",
    "# we can't concatenate with '+' on different data type\n",
    "a=4\n",
    "b=5\n",
    "c=\"Virat\"\n",
    "print(a+b)\n",
    "# print(a+c) #TypeError"
   ]
  }
 ],
 "metadata": {
  "kernelspec": {
   "display_name": "Python 3 (ipykernel)",
   "language": "python",
   "name": "python3"
  },
  "language_info": {
   "codemirror_mode": {
    "name": "ipython",
    "version": 3
   },
   "file_extension": ".py",
   "mimetype": "text/x-python",
   "name": "python",
   "nbconvert_exporter": "python",
   "pygments_lexer": "ipython3",
   "version": "3.9.13"
  }
 },
 "nbformat": 4,
 "nbformat_minor": 5
}
