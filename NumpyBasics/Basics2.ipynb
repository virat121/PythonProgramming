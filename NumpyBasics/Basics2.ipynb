{
 "cells": [
  {
   "cell_type": "code",
   "execution_count": 9,
   "id": "4a112300",
   "metadata": {},
   "outputs": [
    {
     "name": "stdout",
     "output_type": "stream",
     "text": [
      "[0. 0. 0.]\n",
      "\n",
      "[[0. 0. 0.]\n",
      " [0. 0. 0.]]\n"
     ]
    }
   ],
   "source": [
    "import numpy as np\n",
    "arr=np.zeros(3)\n",
    "print(arr)\n",
    "print()\n",
    "arr1=np.zeros((2,3))\n",
    "print(arr1)"
   ]
  },
  {
   "cell_type": "code",
   "execution_count": 14,
   "id": "642151a2",
   "metadata": {},
   "outputs": [
    {
     "name": "stdout",
     "output_type": "stream",
     "text": [
      "[[1. 1. 1.]\n",
      " [1. 1. 1.]\n",
      " [1. 1. 1.]]\n",
      "[[1. 0. 0.]\n",
      " [0. 1. 0.]\n",
      " [0. 0. 1.]]\n",
      "[[1. 0. 0. 0.]\n",
      " [0. 1. 0. 0.]\n",
      " [0. 0. 1. 0.]]\n"
     ]
    }
   ],
   "source": [
    "arr=np.ones((3,3)) #filling all element by 1 in 3*3 matrices\n",
    "print(arr)\n",
    "arr_i=np.eye(3) #identity matrix\n",
    "print(arr_i)\n",
    "arr2=np.eye(3,4) #filling all elements 0 other than pricipal diagonal\n",
    "print(arr2)"
   ]
  },
  {
   "cell_type": "code",
   "execution_count": 19,
   "id": "a34ebfee",
   "metadata": {},
   "outputs": [
    {
     "name": "stdout",
     "output_type": "stream",
     "text": [
      "[[1 0 0 0]\n",
      " [0 2 0 0]\n",
      " [0 0 3 0]\n",
      " [0 0 0 4]]\n",
      "[ 1  5 10]\n"
     ]
    }
   ],
   "source": [
    "arr=np.diag([1,2,3,4])\n",
    "print(arr)\n",
    "arr1=[[1,3,4],[4,5,6],[8,9,10]]\n",
    "diag_elements=np.diag(arr1) #getting diagonal elements\n",
    "print(diag_elements)"
   ]
  },
  {
   "cell_type": "code",
   "execution_count": 23,
   "id": "88a1f83c",
   "metadata": {},
   "outputs": [
    {
     "name": "stdout",
     "output_type": "stream",
     "text": [
      "[13 14  5]\n"
     ]
    }
   ],
   "source": [
    "#generate a random number within given range\n",
    "arr=np.random.randint(1,20,3)\n",
    "print(arr)"
   ]
  },
  {
   "cell_type": "code",
   "execution_count": 27,
   "id": "70d3deca",
   "metadata": {},
   "outputs": [
    {
     "name": "stdout",
     "output_type": "stream",
     "text": [
      "[0.48056123 0.73835587 0.28058597 0.55902501 0.31243261]\n",
      "[[0.02535025 0.93642714 0.43093501]\n",
      " [0.13662326 0.70325618 0.25477704]]\n"
     ]
    }
   ],
   "source": [
    "#rand function\n",
    "arr=np.random.rand(5) #range is in between 0 to1\n",
    "print(arr)\n",
    "arr2d=np.random.rand(2,3) # 2*3 matrix\n",
    "print(arr2d)"
   ]
  },
  {
   "cell_type": "code",
   "execution_count": 28,
   "id": "784804cd",
   "metadata": {},
   "outputs": [
    {
     "name": "stdout",
     "output_type": "stream",
     "text": [
      "[[ 0.05479716  0.66821514 -1.02991247]\n",
      " [ 0.05521098 -1.67513242 -0.18567619]]\n"
     ]
    }
   ],
   "source": [
    "arr2d=np.random.randn(2,3) #values near to 0\n",
    "print(arr2d)"
   ]
  }
 ],
 "metadata": {
  "kernelspec": {
   "display_name": "Python 3 (ipykernel)",
   "language": "python",
   "name": "python3"
  },
  "language_info": {
   "codemirror_mode": {
    "name": "ipython",
    "version": 3
   },
   "file_extension": ".py",
   "mimetype": "text/x-python",
   "name": "python",
   "nbconvert_exporter": "python",
   "pygments_lexer": "ipython3",
   "version": "3.9.13"
  }
 },
 "nbformat": 4,
 "nbformat_minor": 5
}
