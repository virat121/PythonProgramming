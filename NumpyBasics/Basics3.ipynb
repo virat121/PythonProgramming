{
 "cells": [
  {
   "cell_type": "code",
   "execution_count": 9,
   "id": "7d28d0c6",
   "metadata": {},
   "outputs": [
    {
     "name": "stdout",
     "output_type": "stream",
     "text": [
      "Enter the size of array4\n",
      "Enter array elements4\n",
      "Enter array elements3\n",
      "Enter array elements2\n",
      "Enter array elements1\n",
      "4\n",
      "3\n",
      "2\n",
      "1\n",
      "Sum of array:  10\n",
      "[2 1]\n"
     ]
    }
   ],
   "source": [
    "import numpy as np\n",
    "#indexing and silecing in 1-d dimesional array\n",
    "a=[]\n",
    "size=int(input(\"Enter the size of array\"))\n",
    "for i in range(size):\n",
    "    val=int(input(\"Enter array elements\"))\n",
    "    a.append(val)\n",
    "arr=np.array(a)    \n",
    "for i in range(arr.size):\n",
    "    print(arr[i])\n",
    "i=sum=0    \n",
    "for i in range(arr.size):\n",
    "    sum+=arr[i]\n",
    "print(\"Sum of array: \",sum)   \n",
    "#slicing is same as in list\n",
    "arr2=arr[2:4]\n",
    "print(arr2)"
   ]
  },
  {
   "cell_type": "code",
   "execution_count": 16,
   "id": "f3bcd865",
   "metadata": {},
   "outputs": [
    {
     "name": "stdout",
     "output_type": "stream",
     "text": [
      "[48 39 35 48 17  5 47 23 15 20 45 13]\n",
      "(12,)\n",
      "[[48 39 35 48 17  5]\n",
      " [47 23 15 20 45 13]]\n",
      "[[48 39 35]\n",
      " [48 17  5]\n",
      " [47 23 15]\n",
      " [20 45 13]]\n",
      "[[[48 39 35]\n",
      "  [48 17  5]]\n",
      "\n",
      " [[47 23 15]\n",
      "  [20 45 13]]]\n",
      "[[[48 39 35]\n",
      "  [48 17  5]]\n",
      "\n",
      " [[47 23 15]\n",
      "  [20 45 13]]]\n",
      "[[[48 39 35]\n",
      "  [48 17  5]]\n",
      "\n",
      " [[47 23 15]\n",
      "  [20 45 13]]]\n"
     ]
    }
   ],
   "source": [
    "#reshaping of array\n",
    "arr=np.random.randint(1,50,12)\n",
    "print(arr)\n",
    "print(arr.shape)\n",
    "arr=arr.reshape(2,6) #converting to 2-d array\n",
    "print(arr)\n",
    "arr=arr.reshape(4,3)\n",
    "print(arr)\n",
    "arr=arr.reshape(2,2,3)\n",
    "print(arr)\n",
    "arr.reshape(3,-1) #automatic calculate column\n",
    "print(arr)\n",
    "arr.reshape(-1,4)\n",
    "print(arr)"
   ]
  }
 ],
 "metadata": {
  "kernelspec": {
   "display_name": "Python 3 (ipykernel)",
   "language": "python",
   "name": "python3"
  },
  "language_info": {
   "codemirror_mode": {
    "name": "ipython",
    "version": 3
   },
   "file_extension": ".py",
   "mimetype": "text/x-python",
   "name": "python",
   "nbconvert_exporter": "python",
   "pygments_lexer": "ipython3",
   "version": "3.9.13"
  }
 },
 "nbformat": 4,
 "nbformat_minor": 5
}
