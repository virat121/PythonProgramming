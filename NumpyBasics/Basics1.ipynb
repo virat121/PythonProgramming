{
 "cells": [
  {
   "cell_type": "code",
   "execution_count": 12,
   "id": "8b1093f0",
   "metadata": {},
   "outputs": [
    {
     "name": "stdout",
     "output_type": "stream",
     "text": [
      "1 2 3 4 5\n",
      "Total dimesion:  1\n",
      "Array shape:  (5,)\n"
     ]
    }
   ],
   "source": [
    "import numpy as np\n",
    "#creating 1-d array\n",
    "a=[1,2,3,4,5]\n",
    "myarray=np.array(a)\n",
    "print(*myarray)\n",
    "print(\"Total dimesion: \",myarray.ndim) #dimesion of array\n",
    "print(\"Array shape: \",myarray.shape) # returns rows and columns"
   ]
  },
  {
   "cell_type": "code",
   "execution_count": 6,
   "id": "ec09463d",
   "metadata": {},
   "outputs": [
    {
     "name": "stdout",
     "output_type": "stream",
     "text": [
      "Enter the size of array: 5\n",
      "Enter array elements: 12\n",
      "Enter array elements: 13\n",
      "Enter array elements: 14\n",
      "Enter array elements: 15\n",
      "Enter array elements: 16\n",
      "[12 13 14 15 16]\n",
      "<class 'numpy.ndarray'>\n"
     ]
    }
   ],
   "source": [
    "a=[]\n",
    "n=int(input(\"Enter the size of array: \"))\n",
    "for i in range(n):\n",
    "    val=int(input(\"Enter array elements: \"))\n",
    "    a.append(val)\n",
    "myarray=np.array(a)\n",
    "print(myarray)\n",
    "print(type(myarray))"
   ]
  },
  {
   "cell_type": "code",
   "execution_count": 11,
   "id": "105748a3",
   "metadata": {},
   "outputs": [
    {
     "name": "stdout",
     "output_type": "stream",
     "text": [
      "[[1 2 3]\n",
      " [4 5 6]\n",
      " [7 8 9]]\n"
     ]
    }
   ],
   "source": [
    "#creating 2-d array\n",
    "myarray=np.array([[1,2,3],[4,5,6],[7,8,9]])\n",
    "print(myarray)"
   ]
  }
 ],
 "metadata": {
  "kernelspec": {
   "display_name": "Python 3",
   "language": "python",
   "name": "python3"
  },
  "language_info": {
   "codemirror_mode": {
    "name": "ipython",
    "version": 3
   },
   "file_extension": ".py",
   "mimetype": "text/x-python",
   "name": "python",
   "nbconvert_exporter": "python",
   "pygments_lexer": "ipython3",
   "version": "3.11.1 (tags/v3.11.1:a7a450f, Dec  6 2022, 19:58:39) [MSC v.1934 64 bit (AMD64)]"
  },
  "vscode": {
   "interpreter": {
    "hash": "b98f472bb8ba48098397e3b897b5be76f7bf0e62d98845cdb0e8066dc5677259"
   }
  }
 },
 "nbformat": 4,
 "nbformat_minor": 5
}
