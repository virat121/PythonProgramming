{
 "cells": [
  {
   "cell_type": "code",
   "execution_count": 22,
   "id": "8102dfb2",
   "metadata": {},
   "outputs": [
    {
     "name": "stdout",
     "output_type": "stream",
     "text": [
      "100\n",
      "200\n",
      "printing in same line\n",
      "1 2 3 4 5\n"
     ]
    }
   ],
   "source": [
    "#local variables\n",
    "def add():\n",
    "    la=30\n",
    "    lb=70\n",
    "    global gc\n",
    "    gc=200 #creating global variable\n",
    "    print(la+lb)\n",
    "add() #calling add() function\n",
    "# print(la)  #can't access local variable\n",
    "#global variable\n",
    "ga=20\n",
    "print(gc) #accessing gloal variable iside function add()\n",
    "# print(gb) #we can use variable before declaring\n",
    "gb=30\n",
    "#deleting a variable\n",
    "# del gb\n",
    "# print(gb)\n",
    "\n",
    "#python to print in same line\n",
    "print(\"printing in\",end=\" \")\n",
    "print(\"same line\")\n",
    "\n",
    "list1=[1,2,3,4,5]\n",
    "print(*list1)  #print list element using * in one line"
   ]
  }
 ],
 "metadata": {
  "kernelspec": {
   "display_name": "Python 3 (ipykernel)",
   "language": "python",
   "name": "python3"
  },
  "language_info": {
   "codemirror_mode": {
    "name": "ipython",
    "version": 3
   },
   "file_extension": ".py",
   "mimetype": "text/x-python",
   "name": "python",
   "nbconvert_exporter": "python",
   "pygments_lexer": "ipython3",
   "version": "3.9.13"
  }
 },
 "nbformat": 4,
 "nbformat_minor": 5
}
