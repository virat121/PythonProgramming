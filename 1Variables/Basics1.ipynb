{
 "cells": [
  {
   "cell_type": "code",
   "execution_count": 1,
   "id": "f51187c4",
   "metadata": {
    "tags": [
     "cell1"
    ]
   },
   "outputs": [
    {
     "name": "stdout",
     "output_type": "stream",
     "text": [
      "20 Virat\n",
      "This is now string\n",
      "<class 'str'> <class 'int'> <class 'float'>\n",
      "<class 'str'> <class 'int'> <class 'float'>\n",
      "Mango Apple Orange\n",
      "Mango AppleOrange\n"
     ]
    }
   ],
   "source": [
    "#python variables can't be declare\n",
    "x=20\n",
    "y=\"Virat\"\n",
    "print(x,y)\n",
    "#variables declared with one type can be change at any time\n",
    "x=\"This is now string\"\n",
    "print(x)\n",
    "#casting\n",
    "z=str(20)\n",
    "y=int(3)\n",
    "z=float(45)\n",
    "#getting the type of variable\n",
    "print(type(x),type(y),type(z))\n",
    "w='a' #string of len=1 not character\n",
    "#variables names are case-sensitive (a and A are two different variable)\n",
    "#variables in python follows snake_case (my_name)\n",
    "my_name=\"Virat\"\n",
    "#we can assign multiple variables in one line\n",
    "a,b,c=\"Kriti\",34,90.9\n",
    "print(type(a),type(b),type(c))\n",
    "a=b=c=99.99\n",
    "#unpacking of a collection\n",
    "fruits=[\"Mango\",\"Apple\",\"Orange\"]\n",
    "x,y,z=fruits\n",
    "print(x,y,z)\n",
    "#we can also print like this\n",
    "print(x + \" \" +  y + z)\n",
    "x=5\n",
    "# print(x+y) #throws error"
   ]
  }
 ],
 "metadata": {
  "kernelspec": {
   "display_name": "base",
   "language": "python",
   "name": "python3"
  },
  "language_info": {
   "codemirror_mode": {
    "name": "ipython",
    "version": 3
   },
   "file_extension": ".py",
   "mimetype": "text/x-python",
   "name": "python",
   "nbconvert_exporter": "python",
   "pygments_lexer": "ipython3",
   "version": "3.9.13 (main, Aug 25 2022, 23:51:50) [MSC v.1916 64 bit (AMD64)]"
  },
  "vscode": {
   "interpreter": {
    "hash": "b302cdd1e032ee910f5c889c3360c28564c92ad4f326fc3102e39fbe47faee66"
   }
  }
 },
 "nbformat": 4,
 "nbformat_minor": 5
}
