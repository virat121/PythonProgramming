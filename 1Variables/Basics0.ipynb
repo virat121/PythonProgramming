{
 "cells": [
  {
   "cell_type": "code",
   "execution_count": 15,
   "id": "3f3df02c",
   "metadata": {},
   "outputs": [
    {
     "name": "stdout",
     "output_type": "stream",
     "text": [
      "Hey,\n",
      "What's up?\n",
      "Hii,\n",
      "  How are you?\n",
      "Hii Do you like ice-cream?\n",
      "hii-Hello Hello\n"
     ]
    }
   ],
   "source": [
    "#comments in python are using '#' pound\n",
    "#single line comments\n",
    "'''This is\n",
    "multiline comments\n",
    "'''\n",
    "print(\"Hey,\\nWhat's up?\")\n",
    "print('''Hii,\n",
    "  How are you?''')\n",
    "print(\"Hii Do you like ice-cream?\")\n",
    "print(\"hii\",\"Hello\",sep=\"-\",end=\" \")\n",
    "print(\"Hello\")"
   ]
  }
 ],
 "metadata": {
  "kernelspec": {
   "display_name": "Python 3 (ipykernel)",
   "language": "python",
   "name": "python3"
  },
  "language_info": {
   "codemirror_mode": {
    "name": "ipython",
    "version": 3
   },
   "file_extension": ".py",
   "mimetype": "text/x-python",
   "name": "python",
   "nbconvert_exporter": "python",
   "pygments_lexer": "ipython3",
   "version": "3.9.13"
  }
 },
 "nbformat": 4,
 "nbformat_minor": 5
}
