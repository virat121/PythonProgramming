{
 "cells": [
  {
   "cell_type": "code",
   "execution_count": 7,
   "id": "71855626",
   "metadata": {},
   "outputs": [
    {
     "name": "stdout",
     "output_type": "stream",
     "text": [
      "Enter your first name: Virat\n",
      "Virat\n",
      "Enter your Last name: Raj\n",
      "Virat Raj\n",
      "12\n",
      "34\n",
      "56\n",
      "12 34 56\n"
     ]
    }
   ],
   "source": [
    "#taking input from user\n",
    "a=input(\"Enter your first name: \" ) #by default string are taken as input\n",
    "print(a)  \n",
    "b=input(\"Enter your Last name: \")\n",
    "print(a +\" \" + b )  #concatnate string\n",
    "#taking multiple inputs\n",
    "a,b,c=input(),input(),input()\n",
    "print(a,b,c)"
   ]
  }
 ],
 "metadata": {
  "kernelspec": {
   "display_name": "Python 3 (ipykernel)",
   "language": "python",
   "name": "python3"
  },
  "language_info": {
   "codemirror_mode": {
    "name": "ipython",
    "version": 3
   },
   "file_extension": ".py",
   "mimetype": "text/x-python",
   "name": "python",
   "nbconvert_exporter": "python",
   "pygments_lexer": "ipython3",
   "version": "3.9.13"
  }
 },
 "nbformat": 4,
 "nbformat_minor": 5
}
