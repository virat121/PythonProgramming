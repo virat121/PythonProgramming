{
 "cells": [
  {
   "cell_type": "code",
   "execution_count": 18,
   "id": "c2213464",
   "metadata": {},
   "outputs": [
    {
     "name": "stdout",
     "output_type": "stream",
     "text": [
      "mango Watermelom kiwi papaya lichi orange cherry\n"
     ]
    }
   ],
   "source": [
    "#changing range of list item\n",
    "fruits=[\"mango\",\"apple\",\"grapes\",\"lichi\",\"orange\"]\n",
    "fruits[1:3]=[\"kiwi\",\"papaya\"] #insertiong more items no problem\n",
    "#inserting less items means other items after that index wiil not seen\n",
    "print(*fruits)"
   ]
  },
  {
   "cell_type": "code",
   "execution_count": 26,
   "id": "8991733c",
   "metadata": {},
   "outputs": [
    {
     "name": "stdout",
     "output_type": "stream",
     "text": [
      "['mango', 'Watermelom', 'apple', 'grapes', 'lichi', 'orange']\n",
      "mango Watermelom apple grapes lichi orange cherry\n",
      "1 2 3 4 mango Watermelom apple grapes lichi orange cherry\n"
     ]
    }
   ],
   "source": [
    "fruits=[\"mango\",\"apple\",\"grapes\",\"lichi\",\"orange\"]\n",
    "fruits.insert(1,\"Watermelom\") #insert at 2nd index\n",
    "print(fruits)\n",
    "fruits.append(\"cherry\") #append at end of list\n",
    "list1=[1,2,3,4]\n",
    "print(*fruits)\n",
    "list1.extend(fruits) #extending one list to another\n",
    "#we can extend any iterable objects(tuples,sets,dict)\n",
    "print(*list1)"
   ]
  },
  {
   "cell_type": "code",
   "execution_count": 27,
   "id": "5a915e3d",
   "metadata": {},
   "outputs": [
    {
     "name": "stdout",
     "output_type": "stream",
     "text": [
      "3062673598768  1\n",
      "\n",
      "3062673598800  2\n",
      "\n",
      "3062673598832  3\n",
      "\n",
      "3062673598864  4\n",
      "\n",
      "3062673598896  5\n",
      "\n"
     ]
    }
   ],
   "source": [
    "mylist=[1,2,3,4,5]\n",
    "for x in range(0,len(mylist),1):\n",
    "    print(id(mylist[x]),end=\"  \")\n",
    "    print(mylist[x])\n",
    "    print()    \n",
    "#python list items are not stored at continuous memory location\n",
    "#python list can take any datatypes like int,string,boolean and can contain object like tuple,list,dict"
   ]
  },
  {
   "cell_type": "code",
   "execution_count": 38,
   "id": "57895ffb",
   "metadata": {},
   "outputs": [
    {
     "name": "stdout",
     "output_type": "stream",
     "text": [
      "[10, 20, 30, 40, 50, 60]\n",
      "20\n",
      "[10, 30, 40, 50, 60]\n",
      "[10, 40, 50, 60]\n"
     ]
    }
   ],
   "source": [
    "#remove list items\n",
    "num=[10,20,30,40,50,60,\"Apple\"]\n",
    "num.remove(\"Apple\")\n",
    "print(num)\n",
    "print(num.pop(1))  #popped element at index 1 and returns also\n",
    "print(num)\n",
    "#num.pop() removes element from last index\n",
    "del num[1]\n",
    "print(num)\n",
    "del num #deleting the complete list\n",
    "# print(*num)# throws error\n",
    "#del can remove element at index or delete the complete list items"
   ]
  },
  {
   "cell_type": "code",
   "execution_count": 39,
   "id": "573b3336",
   "metadata": {},
   "outputs": [
    {
     "name": "stdout",
     "output_type": "stream",
     "text": [
      "['Virat', 'Kriti', 'Ishu']\n",
      "0\n"
     ]
    }
   ],
   "source": [
    "list1=[\"Virat\",\"Kriti\",\"Ishu\"]\n",
    "print(list1)\n",
    "list1.clear() #empties the list\n",
    "print(len(list1))"
   ]
  }
 ],
 "metadata": {
  "kernelspec": {
   "display_name": "Python 3 (ipykernel)",
   "language": "python",
   "name": "python3"
  },
  "language_info": {
   "codemirror_mode": {
    "name": "ipython",
    "version": 3
   },
   "file_extension": ".py",
   "mimetype": "text/x-python",
   "name": "python",
   "nbconvert_exporter": "python",
   "pygments_lexer": "ipython3",
   "version": "3.9.13"
  }
 },
 "nbformat": 4,
 "nbformat_minor": 5
}
