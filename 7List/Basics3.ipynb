{
 "cells": [
  {
   "cell_type": "code",
   "execution_count": 4,
   "id": "6a2e6189",
   "metadata": {},
   "outputs": [
    {
     "name": "stdout",
     "output_type": "stream",
     "text": [
      "Virat Kriti Ishita \n",
      "Virat Kriti Ishita \n",
      "Virat Kriti Ishita "
     ]
    }
   ],
   "source": [
    "#looping through list\n",
    "friends=[\"Virat\",\"Kriti\",\"Ishita\"]\n",
    "for x in friends:\n",
    "    print(x,end=\" \")\n",
    "print()\n",
    "#loop through index number\n",
    "for i in range(len(friends)):\n",
    "    print(friends[i],end=\" \")  \n",
    "print()\n",
    "i=0\n",
    "while i < len(friends):\n",
    "    print(friends[i],end=\" \")\n",
    "    i+=1   "
   ]
  },
  {
   "cell_type": "code",
   "execution_count": null,
   "id": "893d327f",
   "metadata": {},
   "outputs": [],
   "source": [
    "#looping using list comprehension\n",
    "list1=[10,20,30,40,50,60]\n",
    "[print(x) for x in list]"
   ]
  }
 ],
 "metadata": {
  "kernelspec": {
   "display_name": "Python 3 (ipykernel)",
   "language": "python",
   "name": "python3"
  },
  "language_info": {
   "codemirror_mode": {
    "name": "ipython",
    "version": 3
   },
   "file_extension": ".py",
   "mimetype": "text/x-python",
   "name": "python",
   "nbconvert_exporter": "python",
   "pygments_lexer": "ipython3",
   "version": "3.9.13"
  }
 },
 "nbformat": 4,
 "nbformat_minor": 5
}
