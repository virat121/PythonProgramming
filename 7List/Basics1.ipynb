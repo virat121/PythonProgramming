{
 "cells": [
  {
   "cell_type": "code",
   "execution_count": 8,
   "id": "b2184416",
   "metadata": {},
   "outputs": [
    {
     "name": "stdout",
     "output_type": "stream",
     "text": [
      "['virat', 'Kriti', 7, 143]\n",
      "virat Kriti 7 143\n",
      "virat Kriti 777 143\n",
      "4\n",
      "<class 'list'>\n"
     ]
    }
   ],
   "source": [
    "#list items are ordered ,mutable,and contains duplicate values\n",
    "list1=[\"virat\",\"Kriti\",7,143]\n",
    "print(list1)\n",
    "print(*list1)\n",
    "list1[2]=777\n",
    "print(*list1)\n",
    "print(len(list1))\n",
    "print(type(list1))"
   ]
  },
  {
   "cell_type": "code",
   "execution_count": 17,
   "id": "1470185c",
   "metadata": {},
   "outputs": [
    {
     "name": "stdout",
     "output_type": "stream",
     "text": [
      "Virat Kriti God\n",
      "Kriti\n",
      "[4, 5, 6, 7]\n"
     ]
    }
   ],
   "source": [
    "#creating list using list constructor\n",
    "friends=list((\"Virat\",\"Kriti\",\"God\"))\n",
    "print(*friends)\n",
    "print(friends[-2]) #negative indexing\n",
    "number=list((1,2,3,4,5,6,7,8))\n",
    "print(number[-5:-1]) #-1 exclusive"
   ]
  }
 ],
 "metadata": {
  "kernelspec": {
   "display_name": "Python 3 (ipykernel)",
   "language": "python",
   "name": "python3"
  },
  "language_info": {
   "codemirror_mode": {
    "name": "ipython",
    "version": 3
   },
   "file_extension": ".py",
   "mimetype": "text/x-python",
   "name": "python",
   "nbconvert_exporter": "python",
   "pygments_lexer": "ipython3",
   "version": "3.9.13"
  }
 },
 "nbformat": 4,
 "nbformat_minor": 5
}
