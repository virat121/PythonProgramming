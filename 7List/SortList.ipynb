{
 "cells": [
  {
   "cell_type": "code",
   "execution_count": 5,
   "id": "b07ed12d",
   "metadata": {},
   "outputs": [
    {
     "name": "stdout",
     "output_type": "stream",
     "text": [
      "Apple Lichi Mango Orange cherry\n",
      "1 23 34 54 56 87 90\n"
     ]
    }
   ],
   "source": [
    "fruits=[\"Mango\",\"Apple\",\"Orange\",\"cherry\",\"Lichi\"]\n",
    "fruits.sort() #case-sensitive(capital sorted first)\n",
    "print(*fruits)\n",
    "number=[1,90,34,56,23,87,54]\n",
    "number.sort()\n",
    "print(*number)"
   ]
  },
  {
   "cell_type": "code",
   "execution_count": 9,
   "id": "5cc5cb27",
   "metadata": {},
   "outputs": [
    {
     "name": "stdout",
     "output_type": "stream",
     "text": [
      "cherry Orange Mango Lichi Apple\n",
      "90 87 56 54 34 23 1\n",
      "Apple cherry Lichi Mango Orange\n"
     ]
    }
   ],
   "source": [
    "#sort in descending order\n",
    "fruits=[\"Mango\",\"Apple\",\"Orange\",\"cherry\",\"Lichi\"]\n",
    "fruits.sort(reverse=True)\n",
    "print(*fruits)\n",
    "number=[1,90,34,56,23,87,54]\n",
    "number.sort(reverse=True)\n",
    "print(*number)\n",
    "fruits.sort(key=str.lower)\n",
    "print(*fruits)"
   ]
  },
  {
   "cell_type": "code",
   "execution_count": null,
   "id": "81bcc7da",
   "metadata": {},
   "outputs": [],
   "source": []
  }
 ],
 "metadata": {
  "kernelspec": {
   "display_name": "Python 3 (ipykernel)",
   "language": "python",
   "name": "python3"
  },
  "language_info": {
   "codemirror_mode": {
    "name": "ipython",
    "version": 3
   },
   "file_extension": ".py",
   "mimetype": "text/x-python",
   "name": "python",
   "nbconvert_exporter": "python",
   "pygments_lexer": "ipython3",
   "version": "3.9.13"
  }
 },
 "nbformat": 4,
 "nbformat_minor": 5
}
