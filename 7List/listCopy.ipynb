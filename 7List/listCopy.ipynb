{
 "cells": [
  {
   "cell_type": "code",
   "execution_count": 5,
   "id": "d48ef157",
   "metadata": {},
   "outputs": [
    {
     "name": "stdout",
     "output_type": "stream",
     "text": [
      "6 7 8 9\n"
     ]
    }
   ],
   "source": [
    "#copy one list to another\n",
    "num1=[1,2,3,4,5]\n",
    "num2=[6,7,8,9]\n",
    "num1=num2.copy()\n",
    "print(*num1)"
   ]
  },
  {
   "cell_type": "code",
   "execution_count": null,
   "id": "eab0bd67",
   "metadata": {},
   "outputs": [],
   "source": [
    "#join two list\n",
    "num1=[1,2,3,4,5]\n",
    "num2=[6,7,8,9]"
   ]
  }
 ],
 "metadata": {
  "kernelspec": {
   "display_name": "Python 3 (ipykernel)",
   "language": "python",
   "name": "python3"
  },
  "language_info": {
   "codemirror_mode": {
    "name": "ipython",
    "version": 3
   },
   "file_extension": ".py",
   "mimetype": "text/x-python",
   "name": "python",
   "nbconvert_exporter": "python",
   "pygments_lexer": "ipython3",
   "version": "3.9.13"
  }
 },
 "nbformat": 4,
 "nbformat_minor": 5
}
