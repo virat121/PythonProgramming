{
 "cells": [
  {
   "cell_type": "code",
   "execution_count": 1,
   "id": "ce2d89c1",
   "metadata": {},
   "outputs": [
    {
     "name": "stdout",
     "output_type": "stream",
     "text": [
      "13\n",
      "<class 'int'> <class 'int'>\n",
      "<class 'int'>\n",
      "a*b = 30\n",
      "a/b= 3.3333333333333335\n",
      "a%b= 1\n",
      "a//b 3\n",
      "a**b 1000\n",
      "1.0\n"
     ]
    }
   ],
   "source": [
    "  #Arithmetic Operator\n",
    "a=10\n",
    "b=3\n",
    "print(a+b)\n",
    "print(type(a),type(b))\n",
    "print(type(a+b))\n",
    "print('a*b','=',a*b) #multiplication  \n",
    "print(\"a/b=\",a/b)   #division\n",
    "print(\"a%b=\",a%b)   #modulus division\n",
    "print(\"a//b\",a//b)  #floor division or int division\n",
    "print(\"a**b\",a**b)  #a exponent b\n",
    "# print(\"a++=\",a++) no increment or decrement operator in python\n",
    "# print('++a=',a++)\n",
    "print(3.4//3)    "
   ]
  },
  {
   "cell_type": "code",
   "execution_count": 3,
   "id": "60cf3117",
   "metadata": {},
   "outputs": [
    {
     "name": "stdout",
     "output_type": "stream",
     "text": [
      "5\n",
      "10\n",
      "5\n",
      "10\n"
     ]
    }
   ],
   "source": [
    "     #Assignment Operator\n",
    "#Assignment Operator\n",
    "x=5\n",
    "print(x)\n",
    "x+=5 #x=x+5\n",
    "print(x)\n",
    "x-=5 #x=x-5\n",
    "print(x)\n",
    "x<<=1\n",
    "print(x)   "
   ]
  },
  {
   "cell_type": "code",
   "execution_count": 5,
   "id": "cd7899a4",
   "metadata": {},
   "outputs": [
    {
     "name": "stdout",
     "output_type": "stream",
     "text": [
      "False\n",
      "True\n",
      "False\n",
      "True\n",
      "False\n",
      "True\n"
     ]
    }
   ],
   "source": [
    "    #Comparison Operator\n",
    "x=3\n",
    "y=6\n",
    "print(x==y)\n",
    "print(x!=y)\n",
    "print(x>y)\n",
    "print(x<y)\n",
    "print(x>y)\n",
    "print(x<y) "
   ]
  },
  {
   "cell_type": "code",
   "execution_count": 7,
   "id": "997ea58e",
   "metadata": {},
   "outputs": [
    {
     "name": "stdout",
     "output_type": "stream",
     "text": [
      "False\n",
      "True\n",
      "False\n"
     ]
    }
   ],
   "source": [
    "   #Logical Operator\n",
    "x=10\n",
    "y=9\n",
    "print(x>=10 and y<=8)\n",
    "print(x>10 or y>8)\n",
    "print(not(x>=10))"
   ]
  },
  {
   "cell_type": "code",
   "execution_count": 3,
   "id": "282e0f42",
   "metadata": {},
   "outputs": [
    {
     "name": "stdout",
     "output_type": "stream",
     "text": [
      "False\n",
      "False\n",
      "True\n",
      "True\n",
      "True\n"
     ]
    }
   ],
   "source": [
    "    #Identity Operator\n",
    "\"\"\"Identity operators are used to compare the objects, not if they are equal, but if they are actually\n",
    "the same object, with the same memory location\"\"\"\n",
    "x=[\"Audi\",\"Maruti\"]\n",
    "y=[\"Audi\",\"Maruti\"]\n",
    "z=x\n",
    "print(x is y)\n",
    "print(y is z)\n",
    "print(x is z)\n",
    "print(x==z)\n",
    "print(x==y)"
   ]
  },
  {
   "cell_type": "code",
   "execution_count": 6,
   "id": "f4f7ed61",
   "metadata": {},
   "outputs": [
    {
     "name": "stdout",
     "output_type": "stream",
     "text": [
      "True\n",
      "False\n",
      "True\n"
     ]
    }
   ],
   "source": [
    "    #Membership Operators\n",
    "fruits=[\"Mango\",\"Grapes\",\"Apple\"]\n",
    "print(\"Mango\" in fruits)\n",
    "print(\"Mango\" not in fruits)\n",
    "print(\"Banana\" not in fruits)"
   ]
  },
  {
   "cell_type": "code",
   "execution_count": 17,
   "id": "71c0f29a",
   "metadata": {},
   "outputs": [
    {
     "name": "stdout",
     "output_type": "stream",
     "text": [
      "0\n",
      "30\n",
      "0\n",
      "-11\n",
      "40\n",
      "10\n"
     ]
    }
   ],
   "source": [
    "    #Bitwise Operator\n",
    "print(2&1)   #returns 0 (can be used to find even number)\n",
    "print(20|10) #return the addition of number\n",
    "print(1^1)   #returns 0 (cancel each other)\n",
    "print(~10)   #return -(n+1)\n",
    "print(20<<1) # return 20*2 (multiplication with 2)\n",
    "print(21>>1) # return 20//2 (division with 2)"
   ]
  }
 ],
 "metadata": {
  "kernelspec": {
   "display_name": "Python 3 (ipykernel)",
   "language": "python",
   "name": "python3"
  },
  "language_info": {
   "codemirror_mode": {
    "name": "ipython",
    "version": 3
   },
   "file_extension": ".py",
   "mimetype": "text/x-python",
   "name": "python",
   "nbconvert_exporter": "python",
   "pygments_lexer": "ipython3",
   "version": "3.9.13"
  }
 },
 "nbformat": 4,
 "nbformat_minor": 5
}
