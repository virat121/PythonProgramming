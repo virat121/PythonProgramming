{
 "cells": [
  {
   "cell_type": "code",
   "execution_count": 8,
   "id": "49081559",
   "metadata": {},
   "outputs": [
    {
     "name": "stdout",
     "output_type": "stream",
     "text": [
      "<class 'tuple'>\n",
      "('Mango', 'Orange', 'Apple', 'Cherry')\n",
      "Mango Orange Apple Cherry\n",
      "4\n",
      "Apple\n",
      "('Audi',)\n"
     ]
    }
   ],
   "source": [
    "#Tuple are immutable,oredered,allow duplicate elements\n",
    "fruits=(\"Mango\",\"Orange\",\"Apple\",\"Cherry\")\n",
    "print(type(fruits))\n",
    "print(fruits)\n",
    "print(*fruits)\n",
    "print(len(fruits))\n",
    "print(fruits[2])\n",
    "cars=(\"Audi\",)\n",
    "print(cars)\n",
    "#for creating a tuple with one element we add comaa always"
   ]
  },
  {
   "cell_type": "code",
   "execution_count": 17,
   "id": "ed702377",
   "metadata": {},
   "outputs": [
    {
     "name": "stdout",
     "output_type": "stream",
     "text": [
      "('Audi', 'BMW', 'Maruti', 'Nano', 'Duster')\n",
      "<class 'tuple'>\n",
      "Duster\n",
      "('BMW', 'Maruti', 'Nano')\n"
     ]
    }
   ],
   "source": [
    "#tuple constructor\n",
    "cars=tuple((\"Audi\",\"BMW\",\"Maruti\",\"Nano\",\"Duster\"))\n",
    "print(cars)\n",
    "print(type(cars))\n",
    "#negative indexing\n",
    "print(cars[-1])\n",
    "print(cars[-4:-1])"
   ]
  },
  {
   "cell_type": "code",
   "execution_count": null,
   "id": "7c6db3aa",
   "metadata": {},
   "outputs": [],
   "source": [
    "cars=()"
   ]
  }
 ],
 "metadata": {
  "kernelspec": {
   "display_name": "Python 3 (ipykernel)",
   "language": "python",
   "name": "python3"
  },
  "language_info": {
   "codemirror_mode": {
    "name": "ipython",
    "version": 3
   },
   "file_extension": ".py",
   "mimetype": "text/x-python",
   "name": "python",
   "nbconvert_exporter": "python",
   "pygments_lexer": "ipython3",
   "version": "3.9.13"
  }
 },
 "nbformat": 4,
 "nbformat_minor": 5
}
