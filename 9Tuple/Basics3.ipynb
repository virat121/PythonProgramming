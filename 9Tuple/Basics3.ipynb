{
 "cells": [
  {
   "cell_type": "code",
   "execution_count": 1,
   "id": "c7e4ab55",
   "metadata": {},
   "outputs": [
    {
     "name": "stdout",
     "output_type": "stream",
     "text": [
      "c c++ java Python Javascript \n"
     ]
    }
   ],
   "source": [
    "#looping through tuple\n",
    "lang=(\"c\",\"c++\",\"java\",\"Python\",\"Javascript\")\n",
    "for x in lang:\n",
    "    print(x,end=\" \")\n",
    "print()"
   ]
  },
  {
   "cell_type": "code",
   "execution_count": 6,
   "id": "b99b705e",
   "metadata": {},
   "outputs": [
    {
     "name": "stdout",
     "output_type": "stream",
     "text": [
      "Virat Kriti Neha \n"
     ]
    }
   ],
   "source": [
    "#looping through index number\n",
    "friends=(\"Virat\",\"Kriti\",\"Neha\")\n",
    "for i in range(len(friends)):\n",
    "    print(friends[i],end=\" \")\n",
    "print()    "
   ]
  },
  {
   "cell_type": "code",
   "execution_count": 8,
   "id": "b77c403e",
   "metadata": {},
   "outputs": [
    {
     "name": "stdout",
     "output_type": "stream",
     "text": [
      "Coding Playing Badmintion Reading Books "
     ]
    }
   ],
   "source": [
    "hobby=(\"Coding\",\"Playing Badmintion\",\"Reading Books\")\n",
    "i=0\n",
    "while i < len(hobby):\n",
    "    print(hobby[i],end=\" \")\n",
    "    i+=1"
   ]
  },
  {
   "cell_type": "code",
   "execution_count": 11,
   "id": "cb1c96ce",
   "metadata": {},
   "outputs": [
    {
     "name": "stdout",
     "output_type": "stream",
     "text": [
      "3\n",
      "4\n"
     ]
    }
   ],
   "source": [
    "#tuple methods\n",
    "num=(1,2,3,4,5,6,5,4,4,3,2,6,7,3,1)\n",
    "print(num.count(4))\n",
    "print(num.index(5))  #returns first occurence index of value"
   ]
  }
 ],
 "metadata": {
  "kernelspec": {
   "display_name": "Python 3 (ipykernel)",
   "language": "python",
   "name": "python3"
  },
  "language_info": {
   "codemirror_mode": {
    "name": "ipython",
    "version": 3
   },
   "file_extension": ".py",
   "mimetype": "text/x-python",
   "name": "python",
   "nbconvert_exporter": "python",
   "pygments_lexer": "ipython3",
   "version": "3.9.13"
  }
 },
 "nbformat": 4,
 "nbformat_minor": 5
}
