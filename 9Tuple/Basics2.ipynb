{
 "cells": [
  {
   "cell_type": "code",
   "execution_count": 3,
   "id": "b43c4274",
   "metadata": {},
   "outputs": [
    {
     "name": "stdout",
     "output_type": "stream",
     "text": [
      "('Virat', 'Ishu', 'Kriti')\n"
     ]
    }
   ],
   "source": [
    "#tuples are immutable but u can change its value by converting into list\n",
    "x=(\"Virat\",\"Kriti\")\n",
    "y=list(x)\n",
    "y[1]=\"Ishu\"\n",
    "# y[2]=\"kriti\" #throws IndexEroor\n",
    "y.append(\"Kriti\") #kriti added at end\n",
    "x=tuple(y)\n",
    "print(x)"
   ]
  },
  {
   "cell_type": "code",
   "execution_count": 6,
   "id": "a91bfd11",
   "metadata": {},
   "outputs": [
    {
     "name": "stdout",
     "output_type": "stream",
     "text": [
      "1 2 3 4 5 6 7 8\n"
     ]
    }
   ],
   "source": [
    "#adding one tuple to another\n",
    "x=(1,2,3,4)\n",
    "y=(5,6,7,8)\n",
    "x+=y\n",
    "print(*x)\n",
    "del y #deleting tuple"
   ]
  },
  {
   "cell_type": "code",
   "execution_count": 7,
   "id": "c8565009",
   "metadata": {},
   "outputs": [
    {
     "name": "stdout",
     "output_type": "stream",
     "text": [
      "Audi BMW Maruti\n"
     ]
    }
   ],
   "source": [
    "#unpacking of a tuple\n",
    "cars=(\"Audi\",\"BMW\",\"Maruti\")\n",
    "a,b,c=cars\n",
    "print(a,b,c)\n",
    "#number of variables must be same otherwise use * which collect remaining values\n"
   ]
  }
 ],
 "metadata": {
  "kernelspec": {
   "display_name": "Python 3 (ipykernel)",
   "language": "python",
   "name": "python3"
  },
  "language_info": {
   "codemirror_mode": {
    "name": "ipython",
    "version": 3
   },
   "file_extension": ".py",
   "mimetype": "text/x-python",
   "name": "python",
   "nbconvert_exporter": "python",
   "pygments_lexer": "ipython3",
   "version": "3.9.13"
  }
 },
 "nbformat": 4,
 "nbformat_minor": 5
}
